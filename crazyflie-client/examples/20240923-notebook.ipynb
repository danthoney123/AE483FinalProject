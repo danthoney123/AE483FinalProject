{
 "cells": [
  {
   "cell_type": "markdown",
   "id": "298283e1",
   "metadata": {},
   "source": [
    "# LaTeX in markdown and in plots"
   ]
  },
  {
   "cell_type": "markdown",
   "id": "b4fec2e2",
   "metadata": {},
   "source": [
    "Do imports."
   ]
  },
  {
   "cell_type": "code",
   "execution_count": 1,
   "id": "1bb778c0",
   "metadata": {},
   "outputs": [],
   "source": [
    "import numpy as np\n",
    "import matplotlib.pyplot as plt"
   ]
  },
  {
   "cell_type": "markdown",
   "id": "7a01794f",
   "metadata": {},
   "source": [
    "#### Inline equations in markdown\n",
    "\n",
    "##### What you would put in the markdown cell\n",
    "\n",
    "```markdown\n",
    "Denote the state by $x$ and the input by $u$.\n",
    "```\n",
    "\n",
    "##### What you would see when this cell is rendered\n",
    "\n",
    "Denote the state by $x$ and the input by $u$."
   ]
  },
  {
   "cell_type": "markdown",
   "id": "58111c4b",
   "metadata": {},
   "source": [
    "#### Block equations in markdown\n",
    "\n",
    "##### What you would put in the markdown cell\n",
    "\n",
    "```markdown\n",
    "Consider the state-space system\n",
    "$$ \\dot{x} = Ax+Bu. $$\n",
    "```\n",
    "\n",
    "##### What you would see when this cell is rendered\n",
    "\n",
    "Consider the state-space system\n",
    "$$ \\dot{x} = Ax+Bu. $$"
   ]
  },
  {
   "cell_type": "markdown",
   "id": "27c6720f",
   "metadata": {},
   "source": [
    "#### Equations in plots"
   ]
  },
  {
   "cell_type": "markdown",
   "id": "de5742fd",
   "metadata": {},
   "source": [
    "Create example data."
   ]
  },
  {
   "cell_type": "code",
   "execution_count": 2,
   "id": "733a90c6",
   "metadata": {},
   "outputs": [],
   "source": [
    "t = np.linspace(0, 2 * np.pi, 100)\n",
    "p_x = np.sin(t)"
   ]
  },
  {
   "cell_type": "markdown",
   "id": "75dcb8d0",
   "metadata": {},
   "source": [
    "Plot data with no LaTeX used in legend."
   ]
  },
  {
   "cell_type": "code",
   "execution_count": null,
   "id": "89012e34",
   "metadata": {},
   "outputs": [],
   "source": [
    "plt.plot(t, p_x, label='p_x')\n",
    "plt.legend(fontsize=16)\n",
    "plt.grid()"
   ]
  },
  {
   "cell_type": "markdown",
   "id": "62bb28d6",
   "metadata": {},
   "source": [
    "Plot data with LaTeX used in legend. Note the use of `r` (this means we are defining a \"raw string\" in which `\\` is treated as a literal character and not as an escape character) and the use of standard delimiters `$ ... $` for an inline equation."
   ]
  },
  {
   "cell_type": "code",
   "execution_count": null,
   "id": "f263344f",
   "metadata": {},
   "outputs": [],
   "source": [
    "plt.plot(t, p_x, label=r'$p_x$')\n",
    "plt.legend(fontsize=16)\n",
    "plt.grid()"
   ]
  },
  {
   "cell_type": "code",
   "execution_count": null,
   "id": "4c84056c",
   "metadata": {},
   "outputs": [],
   "source": []
  }
 ],
 "metadata": {
  "kernelspec": {
   "display_name": "Python 3 (ipykernel)",
   "language": "python",
   "name": "python3"
  },
  "language_info": {
   "codemirror_mode": {
    "name": "ipython",
    "version": 3
   },
   "file_extension": ".py",
   "mimetype": "text/x-python",
   "name": "python",
   "nbconvert_exporter": "python",
   "pygments_lexer": "ipython3",
   "version": "3.12.4"
  }
 },
 "nbformat": 4,
 "nbformat_minor": 5
}
