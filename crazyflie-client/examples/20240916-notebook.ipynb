{
 "cells": [
  {
   "cell_type": "markdown",
   "id": "f4233d19",
   "metadata": {},
   "source": [
    "# 1. Set up the notebook"
   ]
  },
  {
   "cell_type": "markdown",
   "id": "38bcc561",
   "metadata": {},
   "source": [
    "Import all the modules we need."
   ]
  },
  {
   "cell_type": "code",
   "execution_count": null,
   "id": "294d9f2d",
   "metadata": {},
   "outputs": [],
   "source": [
    "import numpy as np\n",
    "import sympy as sym\n",
    "import matplotlib.pyplot as plt"
   ]
  },
  {
   "cell_type": "markdown",
   "id": "86857993",
   "metadata": {},
   "source": [
    "# 2. Show how to take cross products"
   ]
  },
  {
   "cell_type": "markdown",
   "id": "3a32240f",
   "metadata": {},
   "source": [
    "### Taking cross products with numpy"
   ]
  },
  {
   "cell_type": "markdown",
   "id": "0dff4eaa",
   "metadata": {},
   "source": [
    "Suppose we want to take the cross product\n",
    "$ w \\times v $\n",
    "where $w$ and $v$ are described in coordinates as follows:"
   ]
  },
  {
   "cell_type": "code",
   "execution_count": null,
   "id": "1d30b27e",
   "metadata": {},
   "outputs": [],
   "source": [
    "w_inB = np.array([1., 2., 3.])\n",
    "v_inB = np.array([4., 5., 6.])"
   ]
  },
  {
   "cell_type": "markdown",
   "id": "cbdc74a1",
   "metadata": {},
   "source": [
    "The easiest way to do this is with [numpy.cross](https://numpy.org/doc/stable/reference/generated/numpy.cross.html):"
   ]
  },
  {
   "cell_type": "code",
   "execution_count": null,
   "id": "b65acf32",
   "metadata": {},
   "outputs": [],
   "source": [
    "print(np.cross(w_inB, v_inB))"
   ]
  },
  {
   "cell_type": "markdown",
   "id": "c1267bf3",
   "metadata": {},
   "source": [
    "An alternative is to use the wedge operator. If\n",
    "\n",
    "$$ w^B = \\begin{bmatrix} a \\\\ b \\\\ c \\end{bmatrix} $$\n",
    "\n",
    "then\n",
    "\n",
    "$$ \\widehat{w^B} = \\begin{bmatrix} 0 & -c & b \\\\ c & 0 & -a \\\\ -b & a & 0 \\end{bmatrix} $$\n",
    "\n",
    "and the cross product $w \\times v$ in the coordinates of frame $B$ can be found by matrix multiplication:\n",
    "\n",
    "$$ \\left( w \\times v \\right)^B = \\widehat{w^B} v^b. $$\n",
    "\n",
    "The \"wedge operator\" is the mapping from the column vector $w^B$ to the skew-symmetric matrix $\\widehat{w^B}$. Here is a function that implements this operator:"
   ]
  },
  {
   "cell_type": "code",
   "execution_count": null,
   "id": "df97a929",
   "metadata": {},
   "outputs": [],
   "source": [
    "def wedge_numpy(v):\n",
    "    \"\"\"\n",
    "    Returns a skew-symmetric matrix M that can be used to implement\n",
    "    the cross product \"v x w\" as the matrix product \"M @ w\" - assumes\n",
    "    that v has shape (3, )\n",
    "    \"\"\"\n",
    "    return np.array([[0., -v[2], v[1]], [v[2], 0., -v[0]], [-v[1], v[0], 0.]])"
   ]
  },
  {
   "cell_type": "markdown",
   "id": "7cae8fde",
   "metadata": {},
   "source": [
    "Here is how we would use the wedge operator to take the same cross product as before:"
   ]
  },
  {
   "cell_type": "code",
   "execution_count": null,
   "id": "a37fab14",
   "metadata": {},
   "outputs": [],
   "source": [
    "print(wedge_numpy(w_inB) @ v_inB)"
   ]
  },
  {
   "cell_type": "markdown",
   "id": "5cc8fa5c",
   "metadata": {},
   "source": [
    "### Taking cross products with sympy"
   ]
  },
  {
   "cell_type": "markdown",
   "id": "a340d1a8",
   "metadata": {},
   "source": [
    "Suppose we want to take the cross product\n",
    "$ w \\times v $\n",
    "where $w$ and $v$ are described in coordinates as follows:\n",
    "\n",
    "$$w^B = \\begin{bmatrix} a \\\\ b \\\\ c \\end{bmatrix} \\qquad\\qquad v^B = \\begin{bmatrix} d \\\\ e \\\\ f \\end{bmatrix}$$\n",
    "\n",
    "First, create symbolic variables."
   ]
  },
  {
   "cell_type": "code",
   "execution_count": null,
   "id": "ac32c557",
   "metadata": {},
   "outputs": [],
   "source": [
    "a, b, c, d, e, f = sym.symbols('a, b, c, d, e, f')"
   ]
  },
  {
   "cell_type": "markdown",
   "id": "911d1c55",
   "metadata": {},
   "source": [
    "Second, create $w$ and $v$ as sympy matrices:"
   ]
  },
  {
   "cell_type": "code",
   "execution_count": null,
   "id": "9a71300b",
   "metadata": {},
   "outputs": [],
   "source": [
    "w_inB = sym.Matrix([a, b, c])\n",
    "v_inB = sym.Matrix([d, e, f])"
   ]
  },
  {
   "cell_type": "markdown",
   "id": "622ffb67",
   "metadata": {},
   "source": [
    "Now, the easiest way to take the cross product is with [sympy.cross](https://docs.sympy.org/latest/modules/matrices/matrices.html#sympy.matrices.matrices.MatrixBase.cross):"
   ]
  },
  {
   "cell_type": "code",
   "execution_count": null,
   "id": "e43d743b",
   "metadata": {},
   "outputs": [],
   "source": [
    "w_inB.cross(v_inB)"
   ]
  },
  {
   "cell_type": "markdown",
   "id": "9a384265",
   "metadata": {},
   "source": [
    "An alternative is to use the wedge operator. Here is a function that implements this operator:"
   ]
  },
  {
   "cell_type": "code",
   "execution_count": null,
   "id": "3a9bb319",
   "metadata": {},
   "outputs": [],
   "source": [
    "def wedge_sympy(v):\n",
    "    \"\"\"\n",
    "    Returns a skew-symmetric matrix M that can be used to implement\n",
    "    the cross product \"v x w\" as the matrix product \"M @ w\" - assumes\n",
    "    that v has shape (3, )\n",
    "    \"\"\"\n",
    "    return sym.Matrix([[0., -v[2], v[1]], [v[2], 0., -v[0]], [-v[1], v[0], 0.]])"
   ]
  },
  {
   "cell_type": "markdown",
   "id": "b15b64dc",
   "metadata": {},
   "source": [
    "Here is how we would use the wedge operator to take the same cross product as before:"
   ]
  },
  {
   "cell_type": "code",
   "execution_count": null,
   "id": "bec3cf26",
   "metadata": {},
   "outputs": [],
   "source": [
    "wedge_sympy(w_inB) * v_inB"
   ]
  },
  {
   "cell_type": "markdown",
   "id": "b9437a7e",
   "metadata": {},
   "source": [
    "Let's plug in the same values we used for the numpy example, to confirm we get the same result:"
   ]
  },
  {
   "cell_type": "code",
   "execution_count": null,
   "id": "c2767e2e",
   "metadata": {},
   "outputs": [],
   "source": [
    "w_inB.cross(v_inB).subs([(a, 1), (b, 2), (c, 3), (d, 4), (e, 5), (f, 6)])"
   ]
  },
  {
   "cell_type": "markdown",
   "id": "76ba0ad1",
   "metadata": {},
   "source": [
    "# 3. Derive relationship between motor power commands and forces and torques"
   ]
  },
  {
   "cell_type": "markdown",
   "id": "06c4e115",
   "metadata": {},
   "source": [
    "Define parameters as symbolic variables."
   ]
  },
  {
   "cell_type": "code",
   "execution_count": null,
   "id": "a969cbaa",
   "metadata": {},
   "outputs": [],
   "source": [
    "k_F, k_M, l = sym.symbols('k_F, k_M, l')"
   ]
  },
  {
   "cell_type": "markdown",
   "id": "b94a672f",
   "metadata": {},
   "source": [
    "Define motor power commands as symbolic variables."
   ]
  },
  {
   "cell_type": "code",
   "execution_count": null,
   "id": "836bc566",
   "metadata": {},
   "outputs": [],
   "source": [
    "m_1, m_2, m_3, m_4 = sym.symbols('m_1, m_2, m_3, m_4')"
   ]
  },
  {
   "cell_type": "markdown",
   "id": "92d01d4e",
   "metadata": {},
   "source": [
    "Find net force and torque from the first motor."
   ]
  },
  {
   "cell_type": "code",
   "execution_count": null,
   "id": "446593d1",
   "metadata": {},
   "outputs": [],
   "source": [
    "# Net force\n",
    "f_inB_of1 = sym.Matrix([0, 0, k_F * m_1])\n",
    "\n",
    "# Point at which force is applied\n",
    "p_inB_of1 = sym.Matrix([l, -l, 0])\n",
    "\n",
    "# Net torque\n",
    "tau_inB_of1 = sym.Matrix([0, 0, -k_M * m_1]) + p_inB_of1.cross(f_inB_of1)"
   ]
  },
  {
   "cell_type": "markdown",
   "id": "89536a55",
   "metadata": {},
   "source": [
    "Show the result."
   ]
  },
  {
   "cell_type": "code",
   "execution_count": null,
   "id": "5aa4390a",
   "metadata": {},
   "outputs": [],
   "source": [
    "print('net force from rotor 1 (in the coordinates of frame B):')\n",
    "display(f_inB_of1)\n",
    "print('net torque from rotor 1  (in the coordinates of frame B):')\n",
    "display(tau_inB_of1)"
   ]
  },
  {
   "cell_type": "markdown",
   "id": "c976d2b7",
   "metadata": {},
   "source": [
    "Find net force and torque from all other motors."
   ]
  },
  {
   "cell_type": "code",
   "execution_count": null,
   "id": "31abc420",
   "metadata": {},
   "outputs": [],
   "source": [
    "# Motor 2\n",
    "f_inB_of2 = sym.Matrix([0, 0, k_F * m_2])\n",
    "p_inB_of2 = sym.Matrix([-l, -l, 0])\n",
    "tau_inB_of2 = sym.Matrix([0, 0, k_M * m_2]) + p_inB_of2.cross(f_inB_of2)\n",
    "\n",
    "# Motor 3\n",
    "f_inB_of3 = sym.Matrix([0, 0, k_F * m_3])\n",
    "p_inB_of3 = sym.Matrix([-l, l, 0])\n",
    "tau_inB_of3 = sym.Matrix([0, 0, -k_M * m_3]) + p_inB_of3.cross(f_inB_of3)\n",
    "\n",
    "# Motor 4\n",
    "f_inB_of4 = sym.Matrix([0, 0, k_F * m_4])\n",
    "p_inB_of4 = sym.Matrix([l, l, 0])\n",
    "tau_inB_of4 = sym.Matrix([0, 0, k_M * m_4]) + p_inB_of4.cross(f_inB_of4)"
   ]
  },
  {
   "cell_type": "markdown",
   "id": "eef6ac9b",
   "metadata": {},
   "source": [
    "Find total force and torque from all motors."
   ]
  },
  {
   "cell_type": "code",
   "execution_count": null,
   "id": "e6688be3",
   "metadata": {},
   "outputs": [],
   "source": [
    "f_inB_ofRotors = f_inB_of1 + f_inB_of2 + f_inB_of3 + f_inB_of4\n",
    "tau_inB_ofRotors = tau_inB_of1 + tau_inB_of2 + tau_inB_of3 + tau_inB_of4"
   ]
  },
  {
   "cell_type": "markdown",
   "id": "e5c4b4b0",
   "metadata": {},
   "source": [
    "Show the result."
   ]
  },
  {
   "cell_type": "code",
   "execution_count": null,
   "id": "52cfe636",
   "metadata": {},
   "outputs": [],
   "source": [
    "print('net force from all rotors (in the coordinates of frame B):')\n",
    "display(f_inB_ofRotors)\n",
    "print('net torque from all rotors  (in the coordinates of frame B):')\n",
    "display(tau_inB_ofRotors)"
   ]
  },
  {
   "cell_type": "markdown",
   "id": "69a25417",
   "metadata": {},
   "source": [
    "Define the matrix $P$ that maps motor power commands to net forces and torques:\n",
    "\n",
    "$$\n",
    "\\begin{bmatrix} \\tau_x \\\\ \\tau_y \\\\ \\tau_z \\\\ f_z \\end{bmatrix}\n",
    "=\n",
    "P\n",
    "\\begin{bmatrix} m_1 \\\\ m_2 \\\\ m_3 \\\\ m_4 \\end{bmatrix}\n",
    "$$"
   ]
  },
  {
   "cell_type": "code",
   "execution_count": null,
   "id": "1bfafb6e",
   "metadata": {},
   "outputs": [],
   "source": [
    "P = sym.Matrix([\n",
    "    [tau_inB_ofRotors[0].coeff(a) for a in [m_1, m_2, m_3, m_4]],\n",
    "    [tau_inB_ofRotors[1].coeff(a) for a in [m_1, m_2, m_3, m_4]],\n",
    "    [tau_inB_ofRotors[2].coeff(a) for a in [m_1, m_2, m_3, m_4]],\n",
    "    [f_inB_ofRotors[2].coeff(a) for a in [m_1, m_2, m_3, m_4]],\n",
    "])"
   ]
  },
  {
   "cell_type": "markdown",
   "id": "6818acfa",
   "metadata": {},
   "source": [
    "Show the result."
   ]
  },
  {
   "cell_type": "code",
   "execution_count": null,
   "id": "7c6a66a3",
   "metadata": {},
   "outputs": [],
   "source": [
    "P"
   ]
  },
  {
   "cell_type": "markdown",
   "id": "98eb75a2",
   "metadata": {},
   "source": [
    "Find the matrix $P^{-1}$ that maps forces and torques to rotor speeds:\n",
    "\n",
    "$$\n",
    "\\begin{bmatrix} m_1 \\\\ m_2 \\\\ m_3 \\\\ m_4 \\end{bmatrix}\n",
    "=\n",
    "P^{-1}\n",
    "\\begin{bmatrix} \\tau_x \\\\ \\tau_y \\\\ \\tau_z \\\\ f_z \\end{bmatrix}\n",
    "$$"
   ]
  },
  {
   "cell_type": "code",
   "execution_count": null,
   "id": "66c99def",
   "metadata": {},
   "outputs": [],
   "source": [
    "Pinv = P.inv()"
   ]
  },
  {
   "cell_type": "markdown",
   "id": "202f2ed2",
   "metadata": {},
   "source": [
    "Show the result."
   ]
  },
  {
   "cell_type": "code",
   "execution_count": null,
   "id": "e8c88ccf",
   "metadata": {},
   "outputs": [],
   "source": [
    "Pinv"
   ]
  },
  {
   "cell_type": "markdown",
   "id": "961734c6",
   "metadata": {},
   "source": [
    "# 4. Examples"
   ]
  },
  {
   "cell_type": "markdown",
   "id": "ea665b03",
   "metadata": {},
   "source": [
    "Define symbolic variables for mass and gravity."
   ]
  },
  {
   "cell_type": "code",
   "execution_count": null,
   "id": "ce7f1baf",
   "metadata": {},
   "outputs": [],
   "source": [
    "m, g = sym.symbols('m, g')"
   ]
  },
  {
   "cell_type": "markdown",
   "id": "6f6dd1ea",
   "metadata": {},
   "source": [
    "Compute the motor power commands required to achieve a given net torque and net force."
   ]
  },
  {
   "cell_type": "code",
   "execution_count": null,
   "id": "167eb324",
   "metadata": {},
   "outputs": [],
   "source": [
    "Pinv * sym.Matrix([0,\n",
    "                   0,\n",
    "                   0,\n",
    "                   0])"
   ]
  }
 ],
 "metadata": {
  "kernelspec": {
   "display_name": "Python 3 (ipykernel)",
   "language": "python",
   "name": "python3"
  },
  "language_info": {
   "codemirror_mode": {
    "name": "ipython",
    "version": 3
   },
   "file_extension": ".py",
   "mimetype": "text/x-python",
   "name": "python",
   "nbconvert_exporter": "python",
   "pygments_lexer": "ipython3",
   "version": "3.12.4"
  }
 },
 "nbformat": 4,
 "nbformat_minor": 5
}
