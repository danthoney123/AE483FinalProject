{
 "cells": [
  {
   "cell_type": "markdown",
   "id": "bd7091b7",
   "metadata": {},
   "source": [
    "# ZYX Euler Angle Sequence (orientation and angular velocity)"
   ]
  },
  {
   "cell_type": "markdown",
   "id": "7cfbcfb6",
   "metadata": {},
   "source": [
    "Do imports."
   ]
  },
  {
   "cell_type": "code",
   "execution_count": 1,
   "id": "294d9f2d",
   "metadata": {},
   "outputs": [],
   "source": [
    "import numpy as np\n",
    "from scipy.spatial.transform import Rotation\n",
    "import sympy as sym"
   ]
  },
  {
   "cell_type": "markdown",
   "id": "32aa6f6a",
   "metadata": {},
   "source": [
    "## Compute orientation from angles"
   ]
  },
  {
   "cell_type": "markdown",
   "id": "c5b982e9",
   "metadata": {},
   "source": [
    "Define symbolic variables."
   ]
  },
  {
   "cell_type": "code",
   "execution_count": 2,
   "id": "4331e37c",
   "metadata": {},
   "outputs": [],
   "source": [
    "psi, theta, phi = sym.symbols('psi, theta, phi')"
   ]
  },
  {
   "cell_type": "markdown",
   "id": "2ca6226c",
   "metadata": {},
   "source": [
    "Define individual rotation matrices."
   ]
  },
  {
   "cell_type": "code",
   "execution_count": 3,
   "id": "a8502657",
   "metadata": {},
   "outputs": [],
   "source": [
    "Rz = sym.Matrix([[sym.cos(psi), -sym.sin(psi), 0],\n",
    "                 [sym.sin(psi), sym.cos(psi), 0],\n",
    "                 [0, 0, 1]])\n",
    "\n",
    "Ry = sym.Matrix([[sym.cos(theta), 0, sym.sin(theta)],\n",
    "                 [0, 1, 0],\n",
    "                 [-sym.sin(theta), 0, sym.cos(theta)]])\n",
    "\n",
    "Rx = sym.Matrix([[1, 0, 0],\n",
    "                 [0, sym.cos(phi), -sym.sin(phi)],\n",
    "                 [0, sym.sin(phi), sym.cos(phi)]])"
   ]
  },
  {
   "cell_type": "markdown",
   "id": "b19dc059",
   "metadata": {},
   "source": [
    "Apply sequential transformation to compute the rotation matrix that describes the orientation $R^W_B$ of the drone."
   ]
  },
  {
   "cell_type": "code",
   "execution_count": 4,
   "id": "1675cf55",
   "metadata": {},
   "outputs": [],
   "source": [
    "R_inW_ofB = Rz @ Ry @ Rx"
   ]
  },
  {
   "cell_type": "markdown",
   "id": "94c4bd53",
   "metadata": {},
   "source": [
    "Show this rotation matrix."
   ]
  },
  {
   "cell_type": "code",
   "execution_count": null,
   "id": "762a2093",
   "metadata": {},
   "outputs": [],
   "source": [
    "R_inW_ofB"
   ]
  },
  {
   "cell_type": "markdown",
   "id": "eff5177e",
   "metadata": {},
   "source": [
    "Create a function that returns this rotation matrix as a numpy array."
   ]
  },
  {
   "cell_type": "code",
   "execution_count": 6,
   "id": "d8b7026c",
   "metadata": {},
   "outputs": [],
   "source": [
    "get_R_inW_ofB = sym.lambdify((psi, theta, phi), R_inW_ofB)"
   ]
  },
  {
   "cell_type": "markdown",
   "id": "36d366d3",
   "metadata": {},
   "source": [
    "Evaluate this function at particular angles (for example)."
   ]
  },
  {
   "cell_type": "code",
   "execution_count": null,
   "id": "7451ca69",
   "metadata": {},
   "outputs": [],
   "source": [
    "print(get_R_inW_ofB(0.1, 0.2, 0.3))"
   ]
  },
  {
   "cell_type": "markdown",
   "id": "09e01932",
   "metadata": {},
   "source": [
    "Check that this result is the same as what we would have gotten using the `scipy.Rotation` package.\n",
    "\n",
    "**NOTE.** This is how I found a mistake in my use of `scipy.Rotation` — compulsive checking like this is important!"
   ]
  },
  {
   "cell_type": "code",
   "execution_count": null,
   "id": "f944adb2",
   "metadata": {},
   "outputs": [],
   "source": [
    "# Print the result so we can compare it by inspection\n",
    "print(Rotation.from_euler('ZYX', [0.1, 0.2, 0.3]).as_matrix())\n",
    "\n",
    "# Check the result is the same to some relative and absolute tolerance\n",
    "assert(np.allclose(\n",
    "    get_R_inW_ofB(0.1, 0.2, 0.3),\n",
    "    Rotation.from_euler('ZYX', [0.1, 0.2, 0.3]).as_matrix(),\n",
    "))"
   ]
  },
  {
   "cell_type": "markdown",
   "id": "8e4368f6",
   "metadata": {},
   "source": [
    "## Compute angular rates from angular velocity"
   ]
  },
  {
   "cell_type": "markdown",
   "id": "1233e93f",
   "metadata": {},
   "source": [
    "Recall that\n",
    "\n",
    "$$\\begin{bmatrix} \\dot{\\psi} \\\\ \\dot{\\theta} \\\\ \\dot{\\phi} \\end{bmatrix} = N w^W_{W, B}$$\n",
    "\n",
    "for some matrix $N$. Here is how to compute that matrix for a ZYX Euler Angle sequence.  First, we compute its inverse."
   ]
  },
  {
   "cell_type": "code",
   "execution_count": 9,
   "id": "fddb76d0",
   "metadata": {},
   "outputs": [],
   "source": [
    "Ninv = sym.Matrix.hstack((Ry * Rx).T * sym.Matrix([[0], [0], [1]]),\n",
    "                              (Rx).T * sym.Matrix([[0], [1], [0]]),\n",
    "                                       sym.Matrix([[1], [0], [0]]))"
   ]
  },
  {
   "cell_type": "markdown",
   "id": "2a5b5b46",
   "metadata": {},
   "source": [
    "Then, we compute $N$ by taking the inverse of $N^{-1}$."
   ]
  },
  {
   "cell_type": "code",
   "execution_count": 10,
   "id": "ca112e71",
   "metadata": {},
   "outputs": [],
   "source": [
    "N = sym.simplify(Ninv.inv())"
   ]
  },
  {
   "cell_type": "markdown",
   "id": "e8db0283",
   "metadata": {},
   "source": [
    "Show $N$ (remember that $\\tan\\theta = \\sin\\theta / \\cos\\theta$)."
   ]
  },
  {
   "cell_type": "code",
   "execution_count": null,
   "id": "e23a8329",
   "metadata": {},
   "outputs": [],
   "source": [
    "N"
   ]
  },
  {
   "cell_type": "markdown",
   "id": "b1147730",
   "metadata": {},
   "source": [
    "Create a function that returns $N$ as a numpy array."
   ]
  },
  {
   "cell_type": "code",
   "execution_count": 12,
   "id": "82621310",
   "metadata": {},
   "outputs": [],
   "source": [
    "get_N = sym.lambdify((psi, theta, phi), N)"
   ]
  },
  {
   "cell_type": "markdown",
   "id": "db18cc6b",
   "metadata": {},
   "source": [
    "Do an example of finding angular rates from angular velocity."
   ]
  },
  {
   "cell_type": "code",
   "execution_count": null,
   "id": "c8176b69",
   "metadata": {},
   "outputs": [],
   "source": [
    "# Specify angular velocity\n",
    "w_inB_ofWB = np.array([1., 2., 3.])\n",
    "\n",
    "# Find angular rates for given angles and angular velocity\n",
    "psi_dot, theta_dot, phi_dot = get_N(0.01, 0.02, 0.03) @ w_inB_ofWB\n",
    "\n",
    "# Show results\n",
    "print(f'ANGULAR VELOCITY: {w_inB_ofWB}')\n",
    "print(f'ANGULAR RATES: {psi_dot:.2f}, {theta_dot:.2f}, {phi_dot:.2f}')"
   ]
  }
 ],
 "metadata": {
  "kernelspec": {
   "display_name": "Python 3 (ipykernel)",
   "language": "python",
   "name": "python3"
  },
  "language_info": {
   "codemirror_mode": {
    "name": "ipython",
    "version": 3
   },
   "file_extension": ".py",
   "mimetype": "text/x-python",
   "name": "python",
   "nbconvert_exporter": "python",
   "pygments_lexer": "ipython3",
   "version": "3.12.4"
  }
 },
 "nbformat": 4,
 "nbformat_minor": 5
}
