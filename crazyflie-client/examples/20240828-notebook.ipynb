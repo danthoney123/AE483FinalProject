{
 "cells": [
  {
   "cell_type": "markdown",
   "id": "bd7091b7",
   "metadata": {},
   "source": [
    "# Position and orientation"
   ]
  },
  {
   "cell_type": "markdown",
   "id": "7cfbcfb6",
   "metadata": {},
   "source": [
    "Do imports."
   ]
  },
  {
   "cell_type": "code",
   "execution_count": 2,
   "id": "294d9f2d",
   "metadata": {},
   "outputs": [],
   "source": [
    "import numpy as np\n",
    "from scipy.spatial.transform import Rotation"
   ]
  },
  {
   "cell_type": "markdown",
   "id": "74cbb79f",
   "metadata": {},
   "source": [
    "## Position"
   ]
  },
  {
   "cell_type": "markdown",
   "id": "64a675de",
   "metadata": {},
   "source": [
    "Define components of position."
   ]
  },
  {
   "cell_type": "code",
   "execution_count": null,
   "id": "2a55b2aa",
   "metadata": {},
   "outputs": [],
   "source": [
    "x_drone = 0.2\n",
    "y_drone = -1.1\n",
    "z_drone = 0.5"
   ]
  },
  {
   "cell_type": "markdown",
   "id": "b30886ec",
   "metadata": {},
   "source": [
    "Get position from components."
   ]
  },
  {
   "cell_type": "code",
   "execution_count": 4,
   "id": "5a87d171",
   "metadata": {},
   "outputs": [],
   "source": [
    "p_inW_ofB = np.array([x_drone, y_drone, z_drone])"
   ]
  },
  {
   "cell_type": "markdown",
   "id": "4283d264",
   "metadata": {},
   "source": [
    "Print position."
   ]
  },
  {
   "cell_type": "code",
   "execution_count": null,
   "id": "d902dd5f",
   "metadata": {},
   "outputs": [],
   "source": [
    "print(p_inW_ofB)"
   ]
  },
  {
   "cell_type": "markdown",
   "id": "abce280c",
   "metadata": {},
   "source": [
    "Print the type and shape of position."
   ]
  },
  {
   "cell_type": "code",
   "execution_count": null,
   "id": "5f472823",
   "metadata": {},
   "outputs": [],
   "source": [
    "print(type(p_inW_ofB))\n",
    "print(p_inW_ofB.shape)"
   ]
  },
  {
   "cell_type": "markdown",
   "id": "970732c8",
   "metadata": {},
   "source": [
    "Get components from position."
   ]
  },
  {
   "cell_type": "code",
   "execution_count": 7,
   "id": "6a600d00",
   "metadata": {},
   "outputs": [],
   "source": [
    "x_drone = p_inW_ofB[0]\n",
    "y_drone = p_inW_ofB[1]\n",
    "y_drone = p_inW_ofB[2]"
   ]
  },
  {
   "cell_type": "markdown",
   "id": "21026600",
   "metadata": {},
   "source": [
    "Print components."
   ]
  },
  {
   "cell_type": "code",
   "execution_count": null,
   "id": "38cace11",
   "metadata": {},
   "outputs": [],
   "source": [
    "print(x_drone)\n",
    "print(y_drone)\n",
    "print(z_drone)"
   ]
  },
  {
   "cell_type": "markdown",
   "id": "414b1b7d",
   "metadata": {},
   "source": [
    "Get components from position (again)."
   ]
  },
  {
   "cell_type": "code",
   "execution_count": 9,
   "id": "5b5eb773",
   "metadata": {},
   "outputs": [],
   "source": [
    "x_drone, y_drone, z_drone = p_inW_ofB"
   ]
  },
  {
   "cell_type": "markdown",
   "id": "d87f61a8",
   "metadata": {},
   "source": [
    "Print components."
   ]
  },
  {
   "cell_type": "code",
   "execution_count": null,
   "id": "d8d7d59e",
   "metadata": {},
   "outputs": [],
   "source": [
    "print(x_drone)\n",
    "print(y_drone)\n",
    "print(z_drone)"
   ]
  },
  {
   "cell_type": "markdown",
   "id": "d7043c17",
   "metadata": {},
   "source": [
    "## Orientation"
   ]
  },
  {
   "cell_type": "markdown",
   "id": "e96b8a67",
   "metadata": {},
   "source": [
    "Define yaw, pitch, and roll angles in **radians**."
   ]
  },
  {
   "cell_type": "code",
   "execution_count": 11,
   "id": "2ade1084",
   "metadata": {},
   "outputs": [],
   "source": [
    "psi_drone = 0.3\n",
    "theta_drone = np.pi / 6\n",
    "phi_drone = -0.1"
   ]
  },
  {
   "cell_type": "code",
   "execution_count": null,
   "id": "4d92fa55",
   "metadata": {},
   "outputs": [],
   "source": [
    "Rotation.from_euler?"
   ]
  },
  {
   "cell_type": "markdown",
   "id": "3d634f54",
   "metadata": {},
   "source": [
    "Get orientation from yaw, pitch, and roll angles (assuming a ZYX Euler Angle sequence).\n",
    "\n",
    "**IMPORTANT.** The function `Rotation.from_euler` requires us to say which Euler Angle sequence we want to use. **Case matters!** In particular, here is what the documentation says about this argument:\n",
    "\n",
    "```python\n",
    "\"\"\"\n",
    "        seq : string\n",
    "            Specifies sequence of axes for rotations. Up to 3 characters\n",
    "            belonging to the set {'X', 'Y', 'Z'} for intrinsic rotations, or\n",
    "            {'x', 'y', 'z'} for extrinsic rotations. Extrinsic and intrinsic\n",
    "            rotations cannot be mixed in one function call.\n",
    "\"\"\"\n",
    "```\n",
    "\n",
    "\"Intrinsic rotations\" means rotations about body-fixed axes. \"Extrinsic rotations\" means rotations about world-fixed axes. Our standard convention is to use **body-fixed axes**. So we need to specify `ZYX` (this will be correct) and **not** `zyx` (this will be wrong)."
   ]
  },
  {
   "cell_type": "code",
   "execution_count": 13,
   "id": "22a12645",
   "metadata": {},
   "outputs": [],
   "source": [
    "R_inW_ofB = Rotation.from_euler(\n",
    "                'ZYX',                                  # <-- which sequence\n",
    "                [psi_drone, theta_drone, phi_drone],    # <-- angles\n",
    "                degrees=False,                          # <-- units (radians by default)\n",
    ").as_matrix()"
   ]
  },
  {
   "cell_type": "markdown",
   "id": "72f3ca4f",
   "metadata": {},
   "source": [
    "Print orientation."
   ]
  },
  {
   "cell_type": "code",
   "execution_count": null,
   "id": "041f4416",
   "metadata": {},
   "outputs": [],
   "source": [
    "print(R_inW_ofB)"
   ]
  },
  {
   "cell_type": "markdown",
   "id": "db0a4d88",
   "metadata": {},
   "source": [
    "Print the type and shape of orientation."
   ]
  },
  {
   "cell_type": "code",
   "execution_count": null,
   "id": "cfe75979",
   "metadata": {},
   "outputs": [],
   "source": [
    "print(type(R_inW_ofB))\n",
    "print(R_inW_ofB.shape)"
   ]
  },
  {
   "cell_type": "markdown",
   "id": "bbac7447",
   "metadata": {},
   "source": [
    "Get yaw, pitch, and roll angles in **radians** from orientation (assuming a ZYX Euler Angle sequence). Again, it is **very important** that we specify `ZYX` (intrinsic rotations) and **not** `zyx` (extrinsic rotations) as the sequence."
   ]
  },
  {
   "cell_type": "code",
   "execution_count": 16,
   "id": "53f6f47f",
   "metadata": {},
   "outputs": [],
   "source": [
    "psi_drone, theta_drone, phi_drone = Rotation.from_matrix(R_inW_ofB).as_euler('ZYX')"
   ]
  },
  {
   "cell_type": "markdown",
   "id": "348bf3c9",
   "metadata": {},
   "source": [
    "Print yaw, pitch, and roll angles."
   ]
  },
  {
   "cell_type": "code",
   "execution_count": null,
   "id": "e94a120e",
   "metadata": {},
   "outputs": [],
   "source": [
    "print(psi_drone)\n",
    "print(theta_drone)\n",
    "print(phi_drone)"
   ]
  },
  {
   "cell_type": "code",
   "execution_count": null,
   "id": "3f922363",
   "metadata": {},
   "outputs": [],
   "source": []
  }
 ],
 "metadata": {
  "kernelspec": {
   "display_name": "Python 3 (ipykernel)",
   "language": "python",
   "name": "python3"
  },
  "language_info": {
   "codemirror_mode": {
    "name": "ipython",
    "version": 3
   },
   "file_extension": ".py",
   "mimetype": "text/x-python",
   "name": "python",
   "nbconvert_exporter": "python",
   "pygments_lexer": "ipython3",
   "version": "3.12.4"
  }
 },
 "nbformat": 4,
 "nbformat_minor": 5
}
