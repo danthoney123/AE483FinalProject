{
 "cells": [
  {
   "cell_type": "markdown",
   "id": "dc1f0af6",
   "metadata": {},
   "source": [
    "# Calibrate"
   ]
  },
  {
   "cell_type": "markdown",
   "id": "7cfbcfb6",
   "metadata": {},
   "source": [
    "Do imports."
   ]
  },
  {
   "cell_type": "code",
   "execution_count": 1,
   "id": "294d9f2d",
   "metadata": {},
   "outputs": [],
   "source": [
    "import numpy as np\n",
    "import matplotlib.pyplot as plt\n",
    "from ae483tools import *"
   ]
  },
  {
   "cell_type": "markdown",
   "id": "bf8dae86",
   "metadata": {},
   "source": [
    "## Find $l_1$"
   ]
  },
  {
   "cell_type": "markdown",
   "id": "5be70037",
   "metadata": {},
   "source": [
    "Load data for a flight in which the drone sat motionless on the hard floor."
   ]
  },
  {
   "cell_type": "code",
   "execution_count": 2,
   "id": "b2e7d9de",
   "metadata": {},
   "outputs": [],
   "source": [
    "raw_data_drone, raw_data_mocap = load_hardware_data('floor.json')"
   ]
  },
  {
   "cell_type": "markdown",
   "id": "bb70b4b7",
   "metadata": {},
   "source": [
    "Resample drone data.\n",
    "\n",
    "You may find that some of the data at the start or end of your flight are garbage. For this reason, `resample_data_drone` has two optional arguments:\n",
    "\n",
    "* `t_min_offset` is how many seconds you want to ignore (i.e., delete) at the start of the data\n",
    "* `t_max_offset` is how many seconds you want to ignore (i.e., delete) at the end of the data\n",
    "\n",
    "To use these arguments effectively, you'll want to plot the data first (evaluate the next three cells to do this, for example) and then go back and play with the offsets. We won't mention these arguments again, but you should consider using them, as necessary, with **every** new dataset you collect and analyze."
   ]
  },
  {
   "cell_type": "code",
   "execution_count": 3,
   "id": "957ddcf3",
   "metadata": {},
   "outputs": [],
   "source": [
    "data_drone = resample_data_drone(raw_data_drone, t_min_offset=0., t_max_offset=0.)\n",
    "\n",
    "t = data_drone['time']\n",
    "z_drone = data_drone['stateEstimate.z']"
   ]
  },
  {
   "cell_type": "markdown",
   "id": "38c96477",
   "metadata": {},
   "source": [
    "Resample mocap data."
   ]
  },
  {
   "cell_type": "code",
   "execution_count": 4,
   "id": "9721c6b8",
   "metadata": {},
   "outputs": [],
   "source": [
    "data_mocap = resample_data_mocap(raw_data_mocap, t)\n",
    "\n",
    "z_mocap = data_mocap['z']"
   ]
  },
  {
   "cell_type": "markdown",
   "id": "1bf29a47",
   "metadata": {},
   "source": [
    "Plot data."
   ]
  },
  {
   "cell_type": "code",
   "execution_count": 5,
   "id": "997ea168",
   "metadata": {},
   "outputs": [
    {
     "data": {
      "image/png": "[encoded data removed]",
      "text/plain": [
       "<Figure size 600x300 with 1 Axes>"
      ]
     },
     "metadata": {},
     "output_type": "display_data"
    }
   ],
   "source": [
    "fig, ax = plt.subplots(1, 1, figsize=(6, 3), tight_layout=True)\n",
    "ax.plot(t, z_drone, label='z (drone)')\n",
    "ax.plot(t, z_mocap, '--', label='z (mocap)')\n",
    "ax.legend()\n",
    "ax.grid()"
   ]
  },
  {
   "cell_type": "markdown",
   "id": "52eefd09",
   "metadata": {},
   "source": [
    "Find $l_1$ by... **FIXME**."
   ]
  },
  {
   "cell_type": "code",
   "execution_count": 6,
   "id": "7623ae31",
   "metadata": {},
   "outputs": [
    {
     "name": "stdout",
     "output_type": "stream",
     "text": [
      "l_1 = 2.58000 cm\n"
     ]
    }
   ],
   "source": [
    "l_1 = np.average(z_mocap)\n",
    "print(f'l_1 = {100*l_1:.5f} cm')"
   ]
  },
  {
   "cell_type": "markdown",
   "id": "8a7c63f1",
   "metadata": {},
   "source": [
    "# Find $l_2$"
   ]
  },
  {
   "cell_type": "markdown",
   "id": "b47364d8",
   "metadata": {},
   "source": [
    "Load data for a flight in which the drone sat motionless on the carpet."
   ]
  },
  {
   "cell_type": "code",
   "execution_count": 7,
   "id": "031b82c6",
   "metadata": {},
   "outputs": [
    {
     "ename": "FileNotFoundError",
     "evalue": "[Errno 2] No such file or directory: 'carpet.json'",
     "output_type": "error",
     "traceback": [
      "\u001b[1;31m---------------------------------------------------------------------------\u001b[0m",
      "\u001b[1;31mFileNotFoundError\u001b[0m                         Traceback (most recent call last)",
      "Cell \u001b[1;32mIn[7], line 1\u001b[0m\n\u001b[1;32m----> 1\u001b[0m raw_data_drone, raw_data_mocap \u001b[39m=\u001b[39m load_hardware_data(\u001b[39m'\u001b[39;49m\u001b[39mcarpet.json\u001b[39;49m\u001b[39m'\u001b[39;49m)\n",
      "File \u001b[1;32m\\\\wsl.localhost\\Ubuntu\\home\\pelican\\AE483\\crazyflie-client\\lab02\\ae483tools.py:8\u001b[0m, in \u001b[0;36mload_hardware_data\u001b[1;34m(filename)\u001b[0m\n\u001b[0;32m      7\u001b[0m \u001b[39mdef\u001b[39;00m \u001b[39mload_hardware_data\u001b[39m(filename):\n\u001b[1;32m----> 8\u001b[0m     \u001b[39mwith\u001b[39;00m \u001b[39mopen\u001b[39;49m(Path(filename), \u001b[39m'\u001b[39;49m\u001b[39mr\u001b[39;49m\u001b[39m'\u001b[39;49m) \u001b[39mas\u001b[39;00m f:\n\u001b[0;32m      9\u001b[0m         data \u001b[39m=\u001b[39m json\u001b[39m.\u001b[39mload(f)\n\u001b[0;32m     10\u001b[0m         \u001b[39mreturn\u001b[39;00m data[\u001b[39m'\u001b[39m\u001b[39mdrone\u001b[39m\u001b[39m'\u001b[39m], data[\u001b[39m'\u001b[39m\u001b[39mmocap\u001b[39m\u001b[39m'\u001b[39m]\n",
      "\u001b[1;31mFileNotFoundError\u001b[0m: [Errno 2] No such file or directory: 'carpet.json'"
     ]
    }
   ],
   "source": [
    "raw_data_drone, raw_data_mocap = load_hardware_data('carpet.json')"
   ]
  },
  {
   "cell_type": "markdown",
   "id": "277bd211",
   "metadata": {},
   "source": [
    "Resample drone data."
   ]
  },
  {
   "cell_type": "code",
   "execution_count": 8,
   "id": "7740f90b",
   "metadata": {},
   "outputs": [],
   "source": [
    "data_drone = resample_data_drone(raw_data_drone, t_min_offset=0.1, t_max_offset=0.)\n",
    "\n",
    "t = data_drone['time']\n",
    "z_drone = data_drone['stateEstimate.z']"
   ]
  },
  {
   "cell_type": "markdown",
   "id": "eeecb50b",
   "metadata": {},
   "source": [
    "Resample mocap data."
   ]
  },
  {
   "cell_type": "code",
   "execution_count": 9,
   "id": "cb50450f",
   "metadata": {},
   "outputs": [],
   "source": [
    "data_mocap = resample_data_mocap(raw_data_mocap, t)\n",
    "\n",
    "z_mocap = data_mocap['z']"
   ]
  },
  {
   "cell_type": "markdown",
   "id": "6f3f016b",
   "metadata": {},
   "source": [
    "Plot data."
   ]
  },
  {
   "cell_type": "code",
   "execution_count": 11,
   "id": "6ac52160",
   "metadata": {},
   "outputs": [
    {
     "data": {
      "image/png": "[encoded data removed]",
      "text/plain": [
       "<Figure size 600x300 with 1 Axes>"
      ]
     },
     "metadata": {},
     "output_type": "display_data"
    }
   ],
   "source": [
    "fig, ax = plt.subplots(1, 1, figsize=(6, 3), tight_layout=True)\n",
    "ax.plot(t, z_drone, label='z (drone)')\n",
    "ax.plot(t, z_mocap, '--', label='z (mocap)')\n",
    "ax.legend()\n",
    "ax.grid()"
   ]
  },
  {
   "cell_type": "markdown",
   "id": "70cf4e9d",
   "metadata": {},
   "source": [
    "Find $l_2$ by... **FIXME**."
   ]
  },
  {
   "cell_type": "code",
   "execution_count": 12,
   "id": "0b29c6cd",
   "metadata": {},
   "outputs": [
    {
     "name": "stdout",
     "output_type": "stream",
     "text": [
      "l_2 = 7.55313 cm\n"
     ]
    }
   ],
   "source": [
    "l_2 = np.average(z_mocap)\n",
    "print(f'l_2 = {100*l_2:.5f} cm')"
   ]
  },
  {
   "cell_type": "markdown",
   "id": "f69c8d87",
   "metadata": {},
   "source": [
    "# Find $l_3$ and $l_4$"
   ]
  },
  {
   "cell_type": "markdown",
   "id": "fc1e91ce",
   "metadata": {},
   "source": [
    "Load data for a flight in which the drone sat motionless on \"stilts\" on the carpet."
   ]
  },
  {
   "cell_type": "code",
   "execution_count": 13,
   "id": "4ec6b28c",
   "metadata": {},
   "outputs": [],
   "source": [
    "raw_data_drone, raw_data_mocap = load_hardware_data('stilts.json')"
   ]
  },
  {
   "cell_type": "markdown",
   "id": "425f8dbd",
   "metadata": {},
   "source": [
    "Resample drone data."
   ]
  },
  {
   "cell_type": "code",
   "execution_count": 14,
   "id": "6a1973b9",
   "metadata": {},
   "outputs": [],
   "source": [
    "data_drone = resample_data_drone(raw_data_drone, t_min_offset=0.1, t_max_offset=0.)\n",
    "\n",
    "t = data_drone['time']\n",
    "z_drone = data_drone['stateEstimate.z']"
   ]
  },
  {
   "cell_type": "markdown",
   "id": "1827d101",
   "metadata": {},
   "source": [
    "Resample mocap data."
   ]
  },
  {
   "cell_type": "code",
   "execution_count": 15,
   "id": "17a51f3a",
   "metadata": {},
   "outputs": [],
   "source": [
    "data_mocap = resample_data_mocap(raw_data_mocap, t)\n",
    "\n",
    "z_mocap = data_mocap['z']"
   ]
  },
  {
   "cell_type": "markdown",
   "id": "c5a85f28",
   "metadata": {},
   "source": [
    "Plot data."
   ]
  },
  {
   "cell_type": "code",
   "execution_count": 16,
   "id": "bd6068db",
   "metadata": {},
   "outputs": [
    {
     "data": {
      "image/png": "[encoded data removed]",
      "text/plain": [
       "<Figure size 600x300 with 1 Axes>"
      ]
     },
     "metadata": {},
     "output_type": "display_data"
    }
   ],
   "source": [
    "fig, ax = plt.subplots(1, 1, figsize=(6, 3), tight_layout=True)\n",
    "ax.plot(t, z_drone, label='z (drone)')\n",
    "ax.plot(t, z_mocap, '--', label='z (mocap)')\n",
    "ax.legend()\n",
    "ax.grid()"
   ]
  },
  {
   "cell_type": "markdown",
   "id": "0971b21a",
   "metadata": {},
   "source": [
    "Find $l_3$ by... **FIXME** and find $l_4$ by... **FIXME**."
   ]
  },
  {
   "cell_type": "code",
   "execution_count": 17,
   "id": "549ebc48",
   "metadata": {},
   "outputs": [
    {
     "name": "stdout",
     "output_type": "stream",
     "text": [
      "l_3 = 9.50027 cm\n",
      "l_4 = 16.77306 cm\n"
     ]
    }
   ],
   "source": [
    "l_3 = np.average(z_drone)\n",
    "l_4 = np.average(z_mocap)\n",
    "print(f'l_3 = {100*l_3:.5f} cm')\n",
    "print(f'l_4 = {100*l_4:.5f} cm')"
   ]
  },
  {
   "cell_type": "markdown",
   "id": "a0719896",
   "metadata": {},
   "source": [
    "# Find $d_1$ and $d_2$"
   ]
  },
  {
   "cell_type": "markdown",
   "id": "a4009567",
   "metadata": {},
   "source": [
    "Find $d_1$ by... **FIXME**."
   ]
  },
  {
   "cell_type": "code",
   "execution_count": 18,
   "id": "85084427",
   "metadata": {},
   "outputs": [
    {
     "name": "stdout",
     "output_type": "stream",
     "text": [
      "d_1 = 2.29967 cm\n"
     ]
    }
   ],
   "source": [
    "d_1 = l_4-l_2+l_1-l_3\n",
    "print(f'd_1 = {100*d_1:.5f} cm')"
   ]
  },
  {
   "cell_type": "markdown",
   "id": "87838cc3",
   "metadata": {},
   "source": [
    "Find $d_2$ by... **FIXME**."
   ]
  },
  {
   "cell_type": "code",
   "execution_count": 19,
   "id": "58a80f55",
   "metadata": {},
   "outputs": [
    {
     "name": "stdout",
     "output_type": "stream",
     "text": [
      "d_2 = 0.28033 cm\n"
     ]
    }
   ],
   "source": [
    "d_2 = l_2-l_4+l_3\n",
    "print(f'd_2 = {100*d_2:.5f} cm')"
   ]
  },
  {
   "cell_type": "code",
   "execution_count": null,
   "id": "76563c41",
   "metadata": {},
   "outputs": [],
   "source": []
  }
 ],
 "metadata": {
  "kernelspec": {
   "display_name": "Python 3 (ipykernel)",
   "language": "python",
   "name": "python3"
  },
  "language_info": {
   "codemirror_mode": {
    "name": "ipython",
    "version": 3
   },
   "file_extension": ".py",
   "mimetype": "text/x-python",
   "name": "python",
   "nbconvert_exporter": "python",
   "pygments_lexer": "ipython3",
   "version": "3.11.4"
  }
 },
 "nbformat": 4,
 "nbformat_minor": 5
}
