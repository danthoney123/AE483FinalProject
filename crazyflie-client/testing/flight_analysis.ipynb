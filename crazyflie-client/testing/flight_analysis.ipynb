{
 "cells": [
  {
   "cell_type": "markdown",
   "metadata": {},
   "source": [
    "# Analysis of the fligth into the ceiling on 10/28/2024 #\n",
    "Imports"
   ]
  },
  {
   "cell_type": "code",
   "execution_count": 9,
   "metadata": {},
   "outputs": [],
   "source": [
    "import json\n",
    "import matplotlib.pyplot as plt\n",
    "from matplotlib.ticker import ScalarFormatter\n",
    "import numpy as np"
   ]
  },
  {
   "cell_type": "code",
   "execution_count": 10,
   "metadata": {},
   "outputs": [
    {
     "name": "stdout",
     "output_type": "stream",
     "text": [
      "Keys in drone data:\n",
      "\"ae483log.p_x\",\n",
      "\"ae483log.p_y\",\n",
      "\"ae483log.p_z\",\n",
      "\"ae483log.psi\",\n",
      "\"ae483log.theta\",\n",
      "\"ae483log.phi\",\n",
      "\"ae483log.v_x\",\n",
      "\"ae483log.v_y\",\n",
      "\"ae483log.v_z\",\n",
      "\"stateEstimate.x\",\n",
      "\"stateEstimate.y\",\n",
      "\"stateEstimate.z\",\n",
      "\"stateEstimate.yaw\",\n",
      "\"stateEstimate.pitch\",\n",
      "\"stateEstimate.roll\",\n",
      "\"stateEstimate.vx\",\n",
      "\"stateEstimate.vy\",\n",
      "\"stateEstimate.vz\",\n",
      "\"ae483log.w_x\",\n",
      "\"ae483log.w_y\",\n",
      "\"ae483log.w_z\",\n",
      "\"ae483log.n_x\",\n",
      "\"ae483log.n_y\",\n",
      "\"ae483log.r\",\n",
      "\"ae483log.a_z\",\n",
      "\"ae483log.p_x_des\",\n",
      "\"ae483log.p_y_des\",\n",
      "\"ae483log.p_z_des\",\n",
      "\"ctrltarget.x\",\n",
      "\"ctrltarget.y\",\n",
      "\"ctrltarget.z\",\n",
      "\"ae483log.m_1\",\n",
      "\"ae483log.m_2\",\n",
      "\"ae483log.m_3\",\n",
      "\"ae483log.m_4\",\n",
      "\"ae483log.p_x_mocap\",\n",
      "\"ae483log.p_y_mocap\",\n",
      "\"ae483log.p_z_mocap\",\n",
      "\"ae483log.psi_mocap\",\n",
      "\"ae483log.theta_mocap\",\n",
      "\"ae483log.phi_mocap\",\n",
      "\"extravars.set_motors\",\n",
      "\"extravars.a_x\",\n",
      "\"extravars.a_y\",\n",
      "\"extravars.v_x_int\",\n",
      "\"extravars.v_y_int\",\n",
      "\"extravars.v_z_int\",\n",
      "\"extravars.p_x_int\",\n",
      "\"extravars.p_y_int\",\n",
      "\"extravars.p_z_int\",\n",
      "\"extravars.a_x_in_W\",\n",
      "\"extravars.a_y_in_W\",\n",
      "\"extravars.a_z_in_W\",\n",
      "\"extravars.flow_age\",\n",
      "\"extravars.r_age\",\n",
      "\"extravars.mocap_age\",\n",
      "\"extravars.a_x_0\",\n",
      "\"extravars.a_y_0\",\n",
      "\"extravars.a_z_0\",\n",
      "\"extravars.violation_index\",\n",
      "\"extravars.violation_value\",\n",
      "\"extravars.violation_lower\",\n",
      "\"extravars.violation_upper\",\n",
      "\"extravars.current_obs\",\n"
     ]
    }
   ],
   "source": [
    "# Load the JSON data from the file\n",
    "with open('hardware_data.json', 'r') as file:\n",
    "    data = json.load(file)\n",
    "\n",
    "# Extract the \"drone\" data\n",
    "drone_data = data.get(\"drone\", {})\n",
    "\n",
    "# Print out the keys for all the data types within \"drone\"\n",
    "print(\"Keys in drone data:\")\n",
    "for key in drone_data.keys():\n",
    "    print(f'\\\"{key}\\\",')"
   ]
  },
  {
   "cell_type": "code",
   "execution_count": 16,
   "metadata": {},
   "outputs": [],
   "source": [
    "def plot_drone_data(file_path, plot_keys, start_trim=0, end_trim=0):\n",
    "    # Load the JSON data from the file\n",
    "    with open(file_path, 'r') as file:\n",
    "        data = json.load(file)\n",
    "\n",
    "    # Extract the \"drone\" data\n",
    "    drone_data = data.get(\"drone\", {})\n",
    "\n",
    "    # Filter data to include only specified plot keys\n",
    "    filtered_data = {key: value for key, value in drone_data.items() if key in plot_keys}\n",
    "\n",
    "    # Determine the number of subplots based on the number of keys in filtered data\n",
    "    num_plots = len(filtered_data)\n",
    "    fig, axes = plt.subplots(num_plots, 1, figsize=(10, num_plots * 3), sharex=False)\n",
    "\n",
    "    # If there's only one key, make axes a list for compatibility\n",
    "    if num_plots == 1:\n",
    "        axes = [axes]\n",
    "\n",
    "    # Iterate over each key in the filtered drone data and create a subplot\n",
    "    for idx, (key, value) in enumerate(filtered_data.items()):\n",
    "        time_data = value.get(\"time\", [])\n",
    "        y_data = value.get(\"data\", [])\n",
    "\n",
    "        # Convert start_trim and end_trim times to indices\n",
    "        start_index = next((i for i, t in enumerate(time_data) if t >= start_trim), 0)\n",
    "        end_index = next((i for i, t in enumerate(time_data) if t >= time_data[-1] - end_trim), len(time_data))\n",
    "\n",
    "        # Apply trimming based on time values\n",
    "        trimmed_time_data = time_data[start_index:end_index]\n",
    "        trimmed_y_data = y_data[start_index:end_index]\n",
    "        # print(end_index)\n",
    "\n",
    "        # Plot the trimmed time vs. data for each key\n",
    "        # axes[idx].plot(trimmed_time_data, np.rad2deg(trimmed_y_data))\n",
    "        axes[idx].scatter(trimmed_time_data, trimmed_y_data)\n",
    "        \n",
    "        # Set title and labels\n",
    "        axes[idx].set_title(key)\n",
    "        axes[idx].set_ylabel('')  # Leave y-axis label empty\n",
    "        axes[idx].set_xlabel('Time [s]')\n",
    "        axes[idx].tick_params(axis='x', rotation=45)  # Rotate x-axis labels for readability\n",
    "        axes[idx].grid()\n",
    "\n",
    "        # Set x-axis limits to match the data range for each subplot\n",
    "        axes[idx].set_xlim([trimmed_time_data[0], trimmed_time_data[-1]])\n",
    "\n",
    "        # Prevent scientific notation on y-axis\n",
    "        axes[idx].yaxis.set_major_formatter(ScalarFormatter(useOffset=False))\n",
    "\n",
    "    plt.tight_layout()\n",
    "    plt.show()\n",
    "\n",
    "# # Example usage\n",
    "# # plot_keys = [\"ae483log.n_x\", \n",
    "# #              \"ae483log.n_y\",\n",
    "# #              \"ae483log.r\",\n",
    "# #              \"ae483log.a_z\",\n",
    "# #              \"ae483log.p_z_des\",\n",
    "# #              \"ae483log.m_1\"]\n",
    "             \n",
    "# plot_drone_data('hardware.json', plot_keys, start_trim=0, end_trim=1)"
   ]
  },
  {
   "cell_type": "code",
   "execution_count": 19,
   "metadata": {},
   "outputs": [
    {
     "data": {
      "image/png": "[encoded data removed]",
      "text/plain": [
       "<Figure size 1000x600 with 2 Axes>"
      ]
     },
     "metadata": {},
     "output_type": "display_data"
    }
   ],
   "source": [
    "plot_keys = [\n",
    "\"extravars.current_obs\",\n",
    "\"extravars.mocap_age\"\n",
    "             ]\n",
    "\n",
    "plot_drone_data('hardware_data.json', plot_keys, start_trim=0.0, end_trim=0.0)"
   ]
  },
  {
   "cell_type": "code",
   "execution_count": 7,
   "metadata": {},
   "outputs": [
    {
     "name": "stdout",
     "output_type": "stream",
     "text": [
      "Var 0 is good!\n",
      "Var 1 is good!\n",
      "Var 2 is good!\n",
      "Var 3 is good!\n",
      "Var 4 is good!\n",
      "Var 5 is good!\n",
      "Var 6 is good!\n",
      "Var 7 is good!\n",
      "Var 8 is good!\n",
      "Var 9 is good!\n",
      "Var 10 is good!\n",
      "Var 11 is good!\n",
      "Var 12 is good!\n",
      "Var 13 is good!\n",
      "Var 14 is good!\n",
      "Var 15 is good!\n",
      "Var 16 is good!\n",
      "Var 17 is good!\n",
      "Var 18 is good!\n",
      "Var 19 is good!\n",
      "Var 20 is good!\n",
      "Var 21 is good!\n",
      "Var 22 is good!\n",
      "Var 23 is good!\n"
     ]
    }
   ],
   "source": [
    "with open('bounds_test.json', 'r') as file:\n",
    "    data = json.load(file)\n",
    "\n",
    "# Extract the \"drone\" data\n",
    "drone_data = data.get(\"drone\", {})\n",
    "\n",
    "for i in range(0, 24):\n",
    "    if drone_data['debugvars.sum_'+str(i)]['data'][-1] == 2*i + 2*i +1:\n",
    "        print(f'Var {i} is good!')\n",
    "    else:\n",
    "        print(f\"Var {i} failed with {drone_data['debugvars.sum_'+str(i)]['data'][-1]}\")\n"
   ]
  },
  {
   "cell_type": "code",
   "execution_count": null,
   "metadata": {},
   "outputs": [],
   "source": []
  }
 ],
 "metadata": {
  "kernelspec": {
   "display_name": "ae483",
   "language": "python",
   "name": "python3"
  },
  "language_info": {
   "codemirror_mode": {
    "name": "ipython",
    "version": 3
   },
   "file_extension": ".py",
   "mimetype": "text/x-python",
   "name": "python",
   "nbconvert_exporter": "python",
   "pygments_lexer": "ipython3",
   "version": "3.12.6"
  }
 },
 "nbformat": 4,
 "nbformat_minor": 2
}
